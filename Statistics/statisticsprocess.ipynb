{
 "cells": [
  {
   "cell_type": "code",
   "execution_count": 11,
   "metadata": {
    "collapsed": true
   },
   "outputs": [],
   "source": [
    "import pandas as pd\n",
    "import sys\n",
    "import nltk"
   ]
  },
  {
   "cell_type": "code",
   "execution_count": 16,
   "metadata": {
    "collapsed": false
   },
   "outputs": [],
   "source": [
    "def checkArgsize():\n",
    "    argLen = len(sys.argv)\n",
    "    if argLen <= 1:\n",
    "        print(\"Not enough arguements exiting...\")\n",
    "        return False\n",
    "    \n",
    "    print(sys.argv)\n",
    "    return argLen"
   ]
  },
  {
   "cell_type": "code",
   "execution_count": 35,
   "metadata": {
    "collapsed": false
   },
   "outputs": [],
   "source": [
    "def runStatsOperation(arguements):\n",
    "#     datasource = pd.read_csv(arguements[\"filename\"])\n",
    "    datasource = pd.read_csv(\"dummydata.csv\")\n",
    "    if arguements[\"operation\"] == \"boxplot\":\n",
    "        print(\"calculating boxplot values....\")\n",
    "    print(datasource)"
   ]
  },
  {
   "cell_type": "code",
   "execution_count": 36,
   "metadata": {
    "collapsed": false
   },
   "outputs": [],
   "source": [
    "def simplestats():\n",
    "    #read in file to process\n",
    "    argLen = checkArgsize()\n",
    "    arguements = {\"operation\":\"\", \"filename\":\"\", \"columns\":\"\", \"rows\":\"\"}\n",
    "    if argLen:\n",
    "        #TODO think of a better solution...\n",
    "        for idx, arg in enumerate(sys.argv):\n",
    "            if idx == 1:\n",
    "                arguements[\"operation\"] = arg\n",
    "            elif idx == 2:\n",
    "                arguements[\"filename\"] = arg\n",
    "            elif idx == 3:\n",
    "                arguements[\"columns\"] = arg\n",
    "            elif idx == 4:\n",
    "                arguements[\"rows\"] = arg\n",
    "            print(arg)\n",
    "    print(arguements)\n",
    "    runStatsOperation(arguements)"
   ]
  },
  {
   "cell_type": "code",
   "execution_count": 37,
   "metadata": {
    "collapsed": false
   },
   "outputs": [
    {
     "name": "stdout",
     "output_type": "stream",
     "text": [
      "['//anaconda/envs/py35/lib/python3.5/site-packages/ipykernel/__main__.py', '-f', '/Users/keshavdasu/Library/Jupyter/runtime/kernel-4f72a895-6282-4e83-9565-e3010bafca0a.json']\n",
      "//anaconda/envs/py35/lib/python3.5/site-packages/ipykernel/__main__.py\n",
      "-f\n",
      "/Users/keshavdasu/Library/Jupyter/runtime/kernel-4f72a895-6282-4e83-9565-e3010bafca0a.json\n",
      "{'operation': '-f', 'columns': '', 'filename': '/Users/keshavdasu/Library/Jupyter/runtime/kernel-4f72a895-6282-4e83-9565-e3010bafca0a.json', 'rows': ''}\n",
      "    Column 1  Column 2  Column 3  Column 4  Column 5  Column 6\n",
      "0         94       143       114       151        98       114\n",
      "1         67        38         7       187        80         7\n",
      "2         56       113        11        79       102       167\n",
      "3         94       155       107       102       114        13\n",
      "4        148        72        22        87       146        76\n",
      "5        142       179       181        35       176        53\n",
      "6        108        38        29        49        99       127\n",
      "7         32        68       168        81        58       196\n",
      "8         14        51        60        28       138       120\n",
      "9        119       138        37        74       141        33\n",
      "10        47         5        26        65        83       158\n",
      "11       180       148        92       100       147        57\n",
      "12        40        95        51         2        71       131\n",
      "13       200       156        40       142        34        15\n",
      "14        60       138         5       131       149       177\n",
      "15        73       195       130       128       141        73\n",
      "16       106       113       196        67       153        74\n"
     ]
    }
   ],
   "source": [
    "#I want the averages for column 1 2 3.... run average on columns.....\n",
    "simplestats()"
   ]
  },
  {
   "cell_type": "code",
   "execution_count": null,
   "metadata": {
    "collapsed": true
   },
   "outputs": [],
   "source": []
  }
 ],
 "metadata": {
  "kernelspec": {
   "display_name": "Python 3",
   "language": "python",
   "name": "python3"
  },
  "language_info": {
   "codemirror_mode": {
    "name": "ipython",
    "version": 3
   },
   "file_extension": ".py",
   "mimetype": "text/x-python",
   "name": "python",
   "nbconvert_exporter": "python",
   "pygments_lexer": "ipython3",
   "version": "3.5.2"
  }
 },
 "nbformat": 4,
 "nbformat_minor": 2
}
